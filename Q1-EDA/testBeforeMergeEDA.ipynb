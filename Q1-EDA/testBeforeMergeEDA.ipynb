{
 "cells": [
  {
   "cell_type": "code",
   "execution_count": null,
   "id": "d78703e4",
   "metadata": {},
   "outputs": [],
   "source": [
    "import numpy as np \n",
    "import pandas as pd \n",
    "import matplotlib.pyplot as plt \n",
    "import seaborn as sns "
   ]
  },
  {
   "cell_type": "code",
   "execution_count": null,
   "id": "f8329f29",
   "metadata": {},
   "outputs": [],
   "source": [
    "import folium"
   ]
  },
  {
   "cell_type": "markdown",
   "id": "71cbd413",
   "metadata": {},
   "source": [
    "## Đọc dữ liệu"
   ]
  },
  {
   "cell_type": "code",
   "execution_count": null,
   "id": "0e2e5c99",
   "metadata": {},
   "outputs": [],
   "source": [
    "data_folder='../Dataset/'"
   ]
  },
  {
   "cell_type": "code",
   "execution_count": null,
   "id": "9c08cfb5",
   "metadata": {},
   "outputs": [],
   "source": [
    "data = pd.read_csv(data_folder + 'dataset.csv')\n",
    "test_data = pd.read_csv(data_folder + 'test.csv')"
   ]
  },
  {
   "cell_type": "markdown",
   "id": "328c5c0b",
   "metadata": {},
   "source": [
    "Không sửa bên trên, dán được ở đây chạy được rồi thì tính tới merge"
   ]
  },
  {
   "cell_type": "markdown",
   "id": "e53e3ef7",
   "metadata": {},
   "source": []
  }
 ],
 "metadata": {
  "language_info": {
   "name": "python"
  }
 },
 "nbformat": 4,
 "nbformat_minor": 5
}
