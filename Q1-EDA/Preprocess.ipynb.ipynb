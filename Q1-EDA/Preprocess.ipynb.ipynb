{
 "cells": [
  {
   "cell_type": "markdown",
   "id": "4371bb3f",
   "metadata": {},
   "source": [
    "<center>\n",
    "    <span style=\"color: #2E86C1; font-size: 3em;\">\n",
    "        &#128202; Preprocessing Data\n",
    "    </span>\n",
    "</center>"
   ]
  },
  {
   "cell_type": "markdown",
   "id": "805895da",
   "metadata": {},
   "source": [
    "# Nội dung Notebook"
   ]
  },
  {
   "cell_type": "markdown",
   "id": "fd79c64f",
   "metadata": {},
   "source": [
    "Notebook này tập trung cung vào việc xử lý dữ liệu đã được EDA để trích xuất ra bộ dữ liệu ổn định về phương diện chất lượng và số lượng cho việc huấn luyện mô hình tiếp theo"
   ]
  },
  {
   "cell_type": "code",
   "execution_count": 1,
   "id": "98de8872",
   "metadata": {},
   "outputs": [],
   "source": [
    "import numpy as np \n",
    "import pandas as pd \n",
    "import matplotlib.pyplot as plt \n",
    "import seaborn as sns \n",
    "import re\n"
   ]
  },
  {
   "cell_type": "code",
   "execution_count": 2,
   "id": "0420dd22",
   "metadata": {},
   "outputs": [],
   "source": [
    "from sklearn.preprocessing import OneHotEncoder\n",
    "from sklearn.cluster import KMeans\n",
    "from sklearn.preprocessing import StandardScaler, FunctionTransformer\n",
    "from kneed import KneeLocator"
   ]
  },
  {
   "cell_type": "markdown",
   "id": "04244272",
   "metadata": {},
   "source": [
    "# Tổng quan notebook\n",
    "\n",
    "| Tên đặc trưng         | Nội dung tiền xử lý                                                  |\n",
    "|-----------------------|----------------------------------------------------------------------|\n",
    "| **id**                | Loại bỏ                                                               |\n",
    "| **sale_date**         | Chuyển đổi giá trị datetime thành ordinal                            |\n",
    "| **sale_price**        | Giữ không đổi                                                              |\n",
    "| **sale_nbr**          | Điền giá trị khuyết bằng median của train                            |\n",
    "| **sale_warning**      | Loại bỏ                                               |\n",
    "| **join_status**       | Gom nhóm đặc trưng                                          |\n",
    "| **join_year**         | Loại bỏ                       |\n",
    "| **latitude**          |                                                        |\n",
    "| **longitude**         |                                                       |\n",
    "| **area**              |                                                            |\n",
    "| **city**              |                                                           |\n",
    "| **zoning**            |                                     |\n",
    "| **subdivision**       |                                                       |\n",
    "| **present_use**       |                                           |\n",
    "| **land_val**          |                                                |\n",
    "| **imp_val**           |                                     |\n",
    "| **year_built**        |                                                     |\n",
    "| **year_reno**         |                                                         |\n",
    "| **sqft_lot**          |                                                      |\n",
    "| **sqft**              |                                  |\n",
    "| **sqft_1**            |                                      |\n",
    "| **sqft_fbsmt**        |                                                    |\n",
    "| **grade**             |                                            |\n",
    "| **fbsmt_grade**       |                                            |\n",
    "| **condition**         |                     |\n",
    "| **stories**           |                                                              |\n",
    "| **beds**              |                                                             |\n",
    "| **bath_full**         |                                                      |\n",
    "| **bath_3qtr**         |                                                      |\n",
    "| **bath_half**         |                                                      |\n",
    "| **garb_sqft**         |                                                  |\n",
    "| **gara_sqft**         |                                                        |\n",
    "| **wfnt**              |                                                    |\n",
    "| **golf**              |                                                   |\n",
    "| **greenbelt**         |                    |\n",
    "| **noise_traffic**     |            |\n",
    "| **view_rainier**      |                                            |\n",
    "| **view_olympics**     |                                        |\n",
    "| **view_cascades**     |                                       |\n",
    "| **view_territorial**  |                |\n",
    "| **view_skyline**      |                          |\n",
    "| **view_sound**        |                                 |\n",
    "| **view_lakewash**     |                                         |\n",
    "| **view_lakesamm**     |                                          |\n",
    "| **view_otherwater**   |                                   |\n",
    "| **view_other**        |               |\n",
    "| **submarket**         |                                 |\n",
    "\n",
    "\n"
   ]
  },
  {
   "cell_type": "markdown",
   "id": "0d888327",
   "metadata": {},
   "source": [
    "\n",
    "| New features         | Mô tả                                                  |\n",
    "|-----------------------|----------------------------------------------------------------------|\n",
    "| **new_features_1**      | Đặc trưng mới được tạo từ tổng diện tích sàn và diện tích tầng hầm                |\n",
    "| **new_features_2**      | Đặc trưng phân loại theo nhóm giá trị sale_price (low, medium, high)              |\n",
    "| **new_features_3**      | Đặc trưng tương tác giữa số phòng ngủ và phòng tắm                                |\n",
    "| **new_features_4**      | Đặc trưng xác định bất động sản có tầm nhìn đặc biệt (tổng hợp các view_*)        |\n",
    "| **new_features_5**      | Đặc trưng tỷ lệ diện tích xây dựng trên diện tích đất (sqft / sqft_lot)           |"
   ]
  },
  {
   "cell_type": "markdown",
   "id": "f538a43f",
   "metadata": {},
   "source": [
    "## Đọc dữ liệu"
   ]
  },
  {
   "cell_type": "code",
   "execution_count": 3,
   "id": "c59a207e",
   "metadata": {},
   "outputs": [],
   "source": [
    "data_folder='../Dataset/'"
   ]
  },
  {
   "cell_type": "code",
   "execution_count": 4,
   "id": "8aadb235",
   "metadata": {},
   "outputs": [],
   "source": [
    "data = pd.read_csv(data_folder + 'dataset.csv')\n",
    "test_data = pd.read_csv(data_folder + 'test.csv')"
   ]
  },
  {
   "cell_type": "code",
   "execution_count": 5,
   "id": "3b745d72",
   "metadata": {},
   "outputs": [],
   "source": [
    "train_data = data.drop('id', axis = 1)"
   ]
  },
  {
   "cell_type": "markdown",
   "id": "c7afbf85",
   "metadata": {},
   "source": [
    "# Tiền xử lý sale_date"
   ]
  },
  {
   "cell_type": "markdown",
   "id": "58b1264d",
   "metadata": {},
   "source": [
    "Đưa dữ liệu ngày tháng thành giá trị số liên tục nhằm biến đổi thành đặc trưng có thể sử dụng cho huấn luyện mô hình, dữ liệu được chuyển đổi thành khoảng cách so với 1 mốc thời gian."
   ]
  },
  {
   "cell_type": "code",
   "execution_count": 6,
   "id": "c848057a",
   "metadata": {},
   "outputs": [
    {
     "name": "stdout",
     "output_type": "stream",
     "text": [
      "Invalid train__sale_date formats: []\n"
     ]
    }
   ],
   "source": [
    "invalid__train_dates = train_data['sale_date'][~train_data['sale_date'].astype(str).str.match(r'^\\d{4}-\\d{2}-\\d{2}$')]\n",
    "print(\"Invalid train__sale_date formats:\", invalid__train_dates.unique())\n"
   ]
  },
  {
   "cell_type": "code",
   "execution_count": 7,
   "id": "084d0f94",
   "metadata": {},
   "outputs": [
    {
     "name": "stdout",
     "output_type": "stream",
     "text": [
      "Invalid test__sale_date formats: []\n"
     ]
    }
   ],
   "source": [
    "invalid_dates_test = train_data['sale_date'][~train_data['sale_date'].astype(str).str.match(r'^\\d{4}-\\d{2}-\\d{2}$')]\n",
    "print(\"Invalid test__sale_date formats:\", invalid_dates_test.unique())"
   ]
  },
  {
   "cell_type": "code",
   "execution_count": null,
   "id": "2f94b8e2",
   "metadata": {},
   "outputs": [],
   "source": [
    "train_data.loc[:, 'sale_date'] = pd.to_datetime(train_data['sale_date'])\n",
    "train_data.loc[:,'sale_date'] = train_data['sale_date'].apply(lambda x: x.toordinal())"
   ]
  },
  {
   "cell_type": "code",
   "execution_count": 10,
   "id": "f0bd5866",
   "metadata": {},
   "outputs": [],
   "source": [
    "test_data.loc[:, 'sale_date'] = pd.to_datetime(test_data['sale_date'])\n",
    "test_data.loc[:,'sale_date'] = test_data['sale_date'].apply(lambda x: x.toordinal())"
   ]
  },
  {
   "cell_type": "markdown",
   "id": "efc11848",
   "metadata": {},
   "source": [
    "# Tiền xử lý sale_price: Giữ không xoá bỏ outlier"
   ]
  },
  {
   "cell_type": "markdown",
   "id": "69fd76f9",
   "metadata": {},
   "source": [
    "# Tiền xử lý sale_nbr"
   ]
  },
  {
   "cell_type": "code",
   "execution_count": 12,
   "id": "aab4ca87",
   "metadata": {},
   "outputs": [
    {
     "name": "stdout",
     "output_type": "stream",
     "text": [
      "42182\n"
     ]
    }
   ],
   "source": [
    "print(train_data['sale_nbr'].isnull().sum())"
   ]
  },
  {
   "cell_type": "code",
   "execution_count": 13,
   "id": "2e965eaa",
   "metadata": {},
   "outputs": [
    {
     "name": "stdout",
     "output_type": "stream",
     "text": [
      "42412\n"
     ]
    }
   ],
   "source": [
    "print(test_data['sale_nbr'].isnull().sum())"
   ]
  },
  {
   "cell_type": "code",
   "execution_count": 14,
   "id": "bb0b6290",
   "metadata": {},
   "outputs": [],
   "source": [
    "sale_nbr_meadian=train_data['sale_nbr'].median()\n",
    "train_data.loc[:, 'sale_nbr'] = train_data['sale_nbr'].fillna(sale_nbr_meadian)\n",
    "test_data.loc[:, 'sale_nbr'] = test_data['sale_nbr'].fillna(sale_nbr_meadian)"
   ]
  },
  {
   "cell_type": "markdown",
   "id": "a9aa3e6e",
   "metadata": {},
   "source": [
    "# Tiền xử lý sale_warning"
   ]
  },
  {
   "cell_type": "markdown",
   "id": "e40c8fd6",
   "metadata": {},
   "source": [
    "90% đặc trưng này chung một giá trị, 10% còn lại được phân bố cho hơn 140 giá trị categorical khác nhau đồng thời ít tương quan với thuộc tính nhãn nên xoá đi"
   ]
  },
  {
   "cell_type": "code",
   "execution_count": null,
   "id": "31b812bd",
   "metadata": {},
   "outputs": [],
   "source": [
    "train_data=train_data.drop(columns=['sale_warning'])\n",
    "test_data=test_data.drop(columns=['sale_warning'])"
   ]
  },
  {
   "cell_type": "markdown",
   "id": "ae28d5d2",
   "metadata": {},
   "source": [
    "# Tiền xử lý join_status"
   ]
  },
  {
   "cell_type": "code",
   "execution_count": 19,
   "id": "3d0aec09",
   "metadata": {},
   "outputs": [
    {
     "data": {
      "text/plain": [
       "join_status\n",
       "nochg               126281\n",
       "new                  53085\n",
       "reno - before         5864\n",
       "rebuilt - before      3706\n",
       "rebuilt - after       3095\n",
       "demo                  2869\n",
       "reno - after          2632\n",
       "miss99                2468\n",
       "Name: count, dtype: int64"
      ]
     },
     "execution_count": 19,
     "metadata": {},
     "output_type": "execute_result"
    }
   ],
   "source": [
    "train_data['join_status'].value_counts()"
   ]
  },
  {
   "cell_type": "code",
   "execution_count": 20,
   "id": "b2191ce8",
   "metadata": {},
   "outputs": [
    {
     "data": {
      "text/plain": [
       "join_status\n",
       "nochg               126519\n",
       "new                  52648\n",
       "reno - before         6001\n",
       "rebuilt - before      3568\n",
       "rebuilt - after       3146\n",
       "demo                  2866\n",
       "reno - after          2654\n",
       "miss99                2598\n",
       "Name: count, dtype: int64"
      ]
     },
     "execution_count": 20,
     "metadata": {},
     "output_type": "execute_result"
    }
   ],
   "source": [
    "test_data['join_status'].value_counts()"
   ]
  },
  {
   "cell_type": "code",
   "execution_count": 21,
   "id": "1f9054cf",
   "metadata": {
    "vscode": {
     "languageId": "javascript"
    }
   },
   "outputs": [],
   "source": [
    "train_data['join_status'] = train_data['join_status'].replace(\n",
    "    ['miss99', 'demo', 'rebuilt - after', 'reno - after'], 'nochg'\n",
    ")\n",
    "test_data['join_status'] = test_data['join_status'].replace(\n",
    "    ['miss99', 'demo', 'rebuilt - after', 'reno - after'], 'nochg'\n",
    ")"
   ]
  },
  {
   "cell_type": "markdown",
   "id": "c7302655",
   "metadata": {},
   "source": [
    "# Tiền xử lý join_year"
   ]
  },
  {
   "cell_type": "markdown",
   "id": "f617b2d0",
   "metadata": {},
   "source": [
    "Đặc trưng này thể hiện tương quan kém với nhãn mục tiêu, đồng thời nội dung có thể suy ra từ đặc trưng join_status"
   ]
  },
  {
   "cell_type": "code",
   "execution_count": 26,
   "id": "d4343ee6",
   "metadata": {
    "vscode": {
     "languageId": "javascript"
    }
   },
   "outputs": [],
   "source": [
    "train_data=train_data.drop(columns=['join_year'])\n",
    "test_data=test_data.drop(columns=['join_year'])"
   ]
  }
 ],
 "metadata": {
  "kernelspec": {
   "display_name": "house_env",
   "language": "python",
   "name": "python3"
  },
  "language_info": {
   "codemirror_mode": {
    "name": "ipython",
    "version": 3
   },
   "file_extension": ".py",
   "mimetype": "text/x-python",
   "name": "python",
   "nbconvert_exporter": "python",
   "pygments_lexer": "ipython3",
   "version": "3.12.4"
  }
 },
 "nbformat": 4,
 "nbformat_minor": 5
}
