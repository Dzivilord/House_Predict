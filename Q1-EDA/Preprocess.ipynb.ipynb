{
 "cells": [
  {
   "cell_type": "markdown",
   "id": "4371bb3f",
   "metadata": {},
   "source": [
    "<center>\n",
    "    <span style=\"color: #2E86C1; font-size: 3em;\">\n",
    "        &#128202; Preprocessing Data\n",
    "    </span>\n",
    "</center>"
   ]
  },
  {
   "cell_type": "markdown",
   "id": "805895da",
   "metadata": {},
   "source": [
    "# Nội dung Notebook"
   ]
  },
  {
   "cell_type": "markdown",
   "id": "fd79c64f",
   "metadata": {},
   "source": [
    "Notebook này tập trung cung vào việc xử lý dữ liệu đã được EDA để trích xuất ra bộ dữ liệu ổn định về phương diện chất lượng và số lượng cho việc huấn luyện mô hình tiếp theo"
   ]
  },
  {
   "cell_type": "code",
   "execution_count": 1,
   "id": "98de8872",
   "metadata": {},
   "outputs": [],
   "source": [
    "import numpy as np \n",
    "import pandas as pd \n",
    "import matplotlib.pyplot as plt \n",
    "import seaborn as sns \n",
    "import re\n"
   ]
  },
  {
   "cell_type": "code",
   "execution_count": 2,
   "id": "0420dd22",
   "metadata": {},
   "outputs": [],
   "source": [
    "from sklearn.preprocessing import OneHotEncoder\n",
    "from sklearn.cluster import KMeans\n",
    "from sklearn.preprocessing import StandardScaler, FunctionTransformer\n",
    "from kneed import KneeLocator"
   ]
  },
  {
   "cell_type": "markdown",
   "id": "04244272",
   "metadata": {},
   "source": [
    "# Tổng quan notebook\n",
    "\n",
    "| Tên đặc trưng         | Nội dung tiền xử lý                                                  |\n",
    "|-----------------------|----------------------------------------------------------------------|\n",
    "| **id**                | Loại bỏ                                                               |\n",
    "| **sale_date**         | Phân tách date &rarr; year, month, day                            |\n",
    "| **sale_price**        | Giữ không đổi                                                              |\n",
    "| **sale_nbr**          | Điền giá trị khuyết bằng median của train                            |\n",
    "| **sale_warning**      | Loại bỏ                                               |\n",
    "| **join_status**       | Gom nhóm đặc trưng- Chuyển thành category                                          |\n",
    "| **join_year**         | Loại bỏ                       |\n",
    "| **latitude**          |                                                        |\n",
    "| **longitude**         |                                                       |\n",
    "| **area**              |                                                            |\n",
    "| **city**              |                                                           |\n",
    "| **zoning**            |                                     |\n",
    "| **subdivision**       |                                                       |\n",
    "| **present_use**       |                                           |\n",
    "| **land_val**          |                                                |\n",
    "| **imp_val**           |                                     |\n",
    "| **year_built**        |                                                     |\n",
    "| **year_reno**         |                                                         |\n",
    "| **sqft_lot**          |                                                      |\n",
    "| **sqft**              |                                  |\n",
    "| **sqft_1**            |                                      |\n",
    "| **sqft_fbsmt**        |                                                    |\n",
    "| **grade**             |                                            |\n",
    "| **fbsmt_grade**       |                                            |\n",
    "| **condition**         |                     |\n",
    "| **stories**           |                                                              |\n",
    "| **beds**              |                                                             |\n",
    "| **bath_full**         |                                                      |\n",
    "| **bath_3qtr**         |                                                      |\n",
    "| **bath_half**         |                                                      |\n",
    "| **garb_sqft**         |                                                  |\n",
    "| **gara_sqft**         |                                                        |\n",
    "| **wfnt**              |                                                    |\n",
    "| **golf**              |                                                   |\n",
    "| **greenbelt**         |                    |\n",
    "| **noise_traffic**     |            |\n",
    "| **view_rainier**      |                                            |\n",
    "| **view_olympics**     |                                        |\n",
    "| **view_cascades**     |                                       |\n",
    "| **view_territorial**  |                |\n",
    "| **view_skyline**      |                          |\n",
    "| **view_sound**        |                                 |\n",
    "| **view_lakewash**     |                                         |\n",
    "| **view_lakesamm**     |                                          |\n",
    "| **view_otherwater**   |                                   |\n",
    "| **view_other**        |               |\n",
    "| **submarket**         |                                 |\n",
    "\n",
    "\n"
   ]
  },
  {
   "cell_type": "markdown",
   "id": "0d888327",
   "metadata": {},
   "source": [
    "\n",
    "| New features         | Mô tả                                                  |\n",
    "|-----------------------|----------------------------------------------------------------------|\n",
    "| **new_features_1**      | Đặc trưng mới được tạo từ tổng diện tích sàn và diện tích tầng hầm                |\n",
    "| **new_features_2**      | Đặc trưng phân loại theo nhóm giá trị sale_price (low, medium, high)              |\n",
    "| **new_features_3**      | Đặc trưng tương tác giữa số phòng ngủ và phòng tắm                                |\n",
    "| **new_features_4**      | Đặc trưng xác định bất động sản có tầm nhìn đặc biệt (tổng hợp các view_*)        |\n",
    "| **new_features_5**      | Đặc trưng tỷ lệ diện tích xây dựng trên diện tích đất (sqft / sqft_lot)           |"
   ]
  },
  {
   "cell_type": "markdown",
   "id": "f538a43f",
   "metadata": {},
   "source": [
    "## Đọc dữ liệu"
   ]
  },
  {
   "cell_type": "code",
   "execution_count": 3,
   "id": "c59a207e",
   "metadata": {},
   "outputs": [],
   "source": [
    "data_folder='../Dataset/'"
   ]
  },
  {
   "cell_type": "code",
   "execution_count": 4,
   "id": "8aadb235",
   "metadata": {},
   "outputs": [],
   "source": [
    "data = pd.read_csv(data_folder + 'dataset.csv')\n",
    "test_data = pd.read_csv(data_folder + 'test.csv')"
   ]
  },
  {
   "cell_type": "code",
   "execution_count": 5,
   "id": "3b745d72",
   "metadata": {},
   "outputs": [],
   "source": [
    "train_data = data.drop('id', axis = 1)"
   ]
  },
  {
   "cell_type": "markdown",
   "id": "da069955",
   "metadata": {},
   "source": [
    "# I. Nhóm đặc trưng về giao dịch mua bán"
   ]
  },
  {
   "cell_type": "markdown",
   "id": "c7afbf85",
   "metadata": {},
   "source": [
    "## Tiền xử lý sale_date"
   ]
  },
  {
   "cell_type": "markdown",
   "id": "58b1264d",
   "metadata": {},
   "source": [
    "Đưa dữ liệu ngày tháng thành giá trị số liên tục nhằm biến đổi thành đặc trưng có thể sử dụng cho huấn luyện mô hình, dữ liệu được chuyển đổi thành khoảng cách so với 1 mốc thời gian."
   ]
  },
  {
   "cell_type": "code",
   "execution_count": 6,
   "id": "c848057a",
   "metadata": {},
   "outputs": [
    {
     "name": "stdout",
     "output_type": "stream",
     "text": [
      "Invalid train__sale_date formats: []\n"
     ]
    }
   ],
   "source": [
    "invalid__train_dates = train_data['sale_date'][~train_data['sale_date'].astype(str).str.match(r'^\\d{4}-\\d{2}-\\d{2}$')]\n",
    "print(\"Invalid train__sale_date formats:\", invalid__train_dates.unique())\n"
   ]
  },
  {
   "cell_type": "code",
   "execution_count": 7,
   "id": "084d0f94",
   "metadata": {},
   "outputs": [
    {
     "name": "stdout",
     "output_type": "stream",
     "text": [
      "Invalid test__sale_date formats: []\n"
     ]
    }
   ],
   "source": [
    "invalid_dates_test = test_data['sale_date'][~test_data['sale_date'].astype(str).str.match(r'^\\d{4}-\\d{2}-\\d{2}$')]\n",
    "print(\"Invalid test__sale_date formats:\", invalid_dates_test.unique())"
   ]
  },
  {
   "cell_type": "code",
   "execution_count": 8,
   "id": "2f94b8e2",
   "metadata": {},
   "outputs": [],
   "source": [
    "train_data['sale_date'] = pd.to_datetime(train_data['sale_date'], errors='coerce')\n",
    "train_data['sale_year'] = train_data['sale_date'].dt.year\n",
    "train_data['sale_month'] = train_data['sale_date'].dt.month\n",
    "train_data['sale_day'] = train_data['sale_date'].dt.day\n",
    "train_data = train_data.drop('sale_date', axis=1)"
   ]
  },
  {
   "cell_type": "code",
   "execution_count": 9,
   "id": "f0bd5866",
   "metadata": {},
   "outputs": [],
   "source": [
    "test_data['sale_date'] = pd.to_datetime(test_data['sale_date'], errors='coerce')\n",
    "test_data['sale_year'] = test_data['sale_date'].dt.year\n",
    "test_data['sale_month'] = test_data['sale_date'].dt.month\n",
    "test_data['sale_day'] = test_data['sale_date'].dt.day\n",
    "test_data.drop('sale_date', axis=1, inplace=True)\n"
   ]
  },
  {
   "cell_type": "markdown",
   "id": "efc11848",
   "metadata": {},
   "source": [
    "## Tiền xử lý sale_price: Giữ không xoá bỏ outlier"
   ]
  },
  {
   "cell_type": "markdown",
   "id": "69fd76f9",
   "metadata": {},
   "source": [
    "## Tiền xử lý sale_nbr"
   ]
  },
  {
   "cell_type": "code",
   "execution_count": 10,
   "id": "aab4ca87",
   "metadata": {},
   "outputs": [
    {
     "name": "stdout",
     "output_type": "stream",
     "text": [
      "42182\n"
     ]
    }
   ],
   "source": [
    "print(train_data['sale_nbr'].isnull().sum())"
   ]
  },
  {
   "cell_type": "code",
   "execution_count": 11,
   "id": "2e965eaa",
   "metadata": {},
   "outputs": [
    {
     "name": "stdout",
     "output_type": "stream",
     "text": [
      "42412\n"
     ]
    }
   ],
   "source": [
    "print(test_data['sale_nbr'].isnull().sum())"
   ]
  },
  {
   "cell_type": "code",
   "execution_count": 12,
   "id": "bb0b6290",
   "metadata": {},
   "outputs": [],
   "source": [
    "sale_nbr_meadian=train_data['sale_nbr'].median()\n",
    "train_data.loc[:, 'sale_nbr'] = train_data['sale_nbr'].fillna(sale_nbr_meadian)\n",
    "test_data.loc[:, 'sale_nbr'] = test_data['sale_nbr'].fillna(sale_nbr_meadian)"
   ]
  },
  {
   "cell_type": "markdown",
   "id": "a9aa3e6e",
   "metadata": {},
   "source": [
    "## Tiền xử lý sale_warning"
   ]
  },
  {
   "cell_type": "markdown",
   "id": "e40c8fd6",
   "metadata": {},
   "source": [
    "90% đặc trưng này chung một giá trị, 10% còn lại được phân bố cho hơn 140 giá trị categorical khác nhau đồng thời ít tương quan với thuộc tính nhãn nên xoá đi"
   ]
  },
  {
   "cell_type": "code",
   "execution_count": 13,
   "id": "31b812bd",
   "metadata": {},
   "outputs": [],
   "source": [
    "train_data=train_data.drop(columns=['sale_warning'])\n",
    "test_data=test_data.drop(columns=['sale_warning'])"
   ]
  },
  {
   "cell_type": "markdown",
   "id": "ae28d5d2",
   "metadata": {},
   "source": [
    "## Tiền xử lý join_status"
   ]
  },
  {
   "cell_type": "code",
   "execution_count": 14,
   "id": "3d0aec09",
   "metadata": {},
   "outputs": [
    {
     "data": {
      "text/plain": [
       "join_status\n",
       "nochg               126281\n",
       "new                  53085\n",
       "reno - before         5864\n",
       "rebuilt - before      3706\n",
       "rebuilt - after       3095\n",
       "demo                  2869\n",
       "reno - after          2632\n",
       "miss99                2468\n",
       "Name: count, dtype: int64"
      ]
     },
     "execution_count": 14,
     "metadata": {},
     "output_type": "execute_result"
    }
   ],
   "source": [
    "train_data['join_status'].value_counts()"
   ]
  },
  {
   "cell_type": "code",
   "execution_count": 15,
   "id": "b2191ce8",
   "metadata": {},
   "outputs": [
    {
     "data": {
      "text/plain": [
       "join_status\n",
       "nochg               126519\n",
       "new                  52648\n",
       "reno - before         6001\n",
       "rebuilt - before      3568\n",
       "rebuilt - after       3146\n",
       "demo                  2866\n",
       "reno - after          2654\n",
       "miss99                2598\n",
       "Name: count, dtype: int64"
      ]
     },
     "execution_count": 15,
     "metadata": {},
     "output_type": "execute_result"
    }
   ],
   "source": [
    "test_data['join_status'].value_counts()"
   ]
  },
  {
   "cell_type": "code",
   "execution_count": 16,
   "id": "1f9054cf",
   "metadata": {
    "vscode": {
     "languageId": "javascript"
    }
   },
   "outputs": [],
   "source": [
    "train_data['join_status'] = train_data['join_status'].replace(\n",
    "    ['miss99', 'demo', 'rebuilt - after', 'reno - after'], 'nochg'\n",
    ").astype('category')\n",
    "test_data['join_status'] = test_data['join_status'].replace(\n",
    "    ['miss99', 'demo', 'rebuilt - after', 'reno - after'], 'nochg'\n",
    ").astype('category')"
   ]
  },
  {
   "cell_type": "markdown",
   "id": "c7302655",
   "metadata": {},
   "source": [
    "## Tiền xử lý join_year"
   ]
  },
  {
   "cell_type": "markdown",
   "id": "f617b2d0",
   "metadata": {},
   "source": [
    "Đặc trưng này thể hiện tương quan kém với nhãn mục tiêu, đồng thời nội dung có thể suy ra từ đặc trưng join_status"
   ]
  },
  {
   "cell_type": "code",
   "execution_count": 17,
   "id": "d4343ee6",
   "metadata": {
    "vscode": {
     "languageId": "javascript"
    }
   },
   "outputs": [],
   "source": [
    "train_data=train_data.drop(columns=['join_year'])\n",
    "test_data=test_data.drop(columns=['join_year'])"
   ]
  },
  {
   "cell_type": "code",
   "execution_count": 18,
   "id": "ba322c5d",
   "metadata": {
    "vscode": {
     "languageId": "javascript"
    }
   },
   "outputs": [
    {
     "name": "stdout",
     "output_type": "stream",
     "text": [
      "<class 'pandas.core.frame.DataFrame'>\n",
      "RangeIndex: 200000 entries, 0 to 199999\n",
      "Data columns (total 46 columns):\n",
      " #   Column            Non-Null Count   Dtype   \n",
      "---  ------            --------------   -----   \n",
      " 0   sale_price        200000 non-null  int64   \n",
      " 1   sale_nbr          200000 non-null  float64 \n",
      " 2   join_status       200000 non-null  category\n",
      " 3   latitude          200000 non-null  float64 \n",
      " 4   longitude         200000 non-null  float64 \n",
      " 5   area              200000 non-null  int64   \n",
      " 6   city              200000 non-null  object  \n",
      " 7   zoning            200000 non-null  object  \n",
      " 8   subdivision       182450 non-null  object  \n",
      " 9   present_use       200000 non-null  int64   \n",
      " 10  land_val          200000 non-null  int64   \n",
      " 11  imp_val           200000 non-null  int64   \n",
      " 12  year_built        200000 non-null  int64   \n",
      " 13  year_reno         200000 non-null  int64   \n",
      " 14  sqft_lot          200000 non-null  int64   \n",
      " 15  sqft              200000 non-null  int64   \n",
      " 16  sqft_1            200000 non-null  int64   \n",
      " 17  sqft_fbsmt        200000 non-null  int64   \n",
      " 18  grade             200000 non-null  int64   \n",
      " 19  fbsmt_grade       200000 non-null  int64   \n",
      " 20  condition         200000 non-null  int64   \n",
      " 21  stories           200000 non-null  float64 \n",
      " 22  beds              200000 non-null  int64   \n",
      " 23  bath_full         200000 non-null  int64   \n",
      " 24  bath_3qtr         200000 non-null  int64   \n",
      " 25  bath_half         200000 non-null  int64   \n",
      " 26  garb_sqft         200000 non-null  int64   \n",
      " 27  gara_sqft         200000 non-null  int64   \n",
      " 28  wfnt              200000 non-null  int64   \n",
      " 29  golf              200000 non-null  int64   \n",
      " 30  greenbelt         200000 non-null  int64   \n",
      " 31  noise_traffic     200000 non-null  int64   \n",
      " 32  view_rainier      200000 non-null  int64   \n",
      " 33  view_olympics     200000 non-null  int64   \n",
      " 34  view_cascades     200000 non-null  int64   \n",
      " 35  view_territorial  200000 non-null  int64   \n",
      " 36  view_skyline      200000 non-null  int64   \n",
      " 37  view_sound        200000 non-null  int64   \n",
      " 38  view_lakewash     200000 non-null  int64   \n",
      " 39  view_lakesamm     200000 non-null  int64   \n",
      " 40  view_otherwater   200000 non-null  int64   \n",
      " 41  view_other        200000 non-null  int64   \n",
      " 42  submarket         198283 non-null  object  \n",
      " 43  sale_year         200000 non-null  int32   \n",
      " 44  sale_month        200000 non-null  int32   \n",
      " 45  sale_day          200000 non-null  int32   \n",
      "dtypes: category(1), float64(4), int32(3), int64(34), object(4)\n",
      "memory usage: 66.6+ MB\n"
     ]
    }
   ],
   "source": [
    "train_data.info()"
   ]
  }
 ],
 "metadata": {
  "kernelspec": {
   "display_name": "house_env",
   "language": "python",
   "name": "python3"
  },
  "language_info": {
   "codemirror_mode": {
    "name": "ipython",
    "version": 3
   },
   "file_extension": ".py",
   "mimetype": "text/x-python",
   "name": "python",
   "nbconvert_exporter": "python",
   "pygments_lexer": "ipython3",
   "version": "3.12.4"
  }
 },
 "nbformat": 4,
 "nbformat_minor": 5
}
